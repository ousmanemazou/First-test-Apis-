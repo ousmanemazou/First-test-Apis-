{
 "cells": [
  {
   "cell_type": "markdown",
   "metadata": {},
   "source": [
    "# Deploying Flask apps to Heroku"
   ]
  },
  {
   "cell_type": "markdown",
   "metadata": {},
   "source": [
    "Let's first create the file .gitignore.\n",
    "\n",
    "In this file we will put all the files and folder that we do not want to put on git:\n",
    "    \n",
    "        __pycache__/\n",
    "        *.pyc\n",
    "        .ipynb_checkpoints/\n"
   ]
  },
  {
   "cell_type": "markdown",
   "metadata": {},
   "source": [
    "*Yes!!! now we can send the app on git*"
   ]
  },
  {
   "cell_type": "code",
   "execution_count": 2,
   "metadata": {},
   "outputs": [
    {
     "name": "stdout",
     "output_type": "stream",
     "text": [
      "Initialized empty Git repository in C:/Users/Oustyle/Data Science Projects/Virtual_envs/APIs/Jose_Udemy_course_Section_8/.git/\n"
     ]
    }
   ],
   "source": [
    "!git init"
   ]
  },
  {
   "cell_type": "code",
   "execution_count": 32,
   "metadata": {},
   "outputs": [
    {
     "name": "stdout",
     "output_type": "stream",
     "text": [
      "On branch master\n",
      "\n",
      "No commits yet\n",
      "\n",
      "Untracked files:\n",
      "  (use \"git add <file>...\" to include in what will be committed)\n",
      "\t.ipynb_checkpoints/\n",
      "\tDeploying Flask apps to Heroku.ipynb\n",
      "\tcode/\n",
      "\n",
      "nothing added to commit but untracked files present (use \"git add\" to track)\n"
     ]
    }
   ],
   "source": [
    "!git status"
   ]
  },
  {
   "cell_type": "code",
   "execution_count": 33,
   "metadata": {},
   "outputs": [
    {
     "name": "stderr",
     "output_type": "stream",
     "text": [
      "warning: LF will be replaced by CRLF in code/Models/item.py.\n",
      "The file will have its original line endings in your working directory\n",
      "warning: LF will be replaced by CRLF in code/Resources/item.py.\n",
      "The file will have its original line endings in your working directory\n",
      "warning: LF will be replaced by CRLF in code/Resources/user.py.\n",
      "The file will have its original line endings in your working directory\n",
      "warning: LF will be replaced by CRLF in code/app.py.\n",
      "The file will have its original line endings in your working directory\n",
      "warning: LF will be replaced by CRLF in code/db.py.\n",
      "The file will have its original line endings in your working directory\n",
      "warning: LF will be replaced by CRLF in code/security.py.\n",
      "The file will have its original line endings in your working directory\n"
     ]
    }
   ],
   "source": [
    "!git add code/"
   ]
  },
  {
   "cell_type": "code",
   "execution_count": 34,
   "metadata": {},
   "outputs": [
    {
     "name": "stdout",
     "output_type": "stream",
     "text": [
      "On branch master\n",
      "\n",
      "No commits yet\n",
      "\n",
      "Changes to be committed:\n",
      "  (use \"git rm --cached <file>...\" to unstage)\n",
      "\tnew file:   code/.gitignore\n",
      "\tnew file:   code/Models/__init__.py\n",
      "\tnew file:   code/Models/item.py\n",
      "\tnew file:   code/Models/store.py\n",
      "\tnew file:   code/Models/user.py\n",
      "\tnew file:   code/Resources/__init__.py\n",
      "\tnew file:   code/Resources/item.py\n",
      "\tnew file:   code/Resources/store.py\n",
      "\tnew file:   code/Resources/user.py\n",
      "\tnew file:   code/app.py\n",
      "\tnew file:   code/db.py\n",
      "\tnew file:   code/security.py\n",
      "\n",
      "Untracked files:\n",
      "  (use \"git add <file>...\" to include in what will be committed)\n",
      "\t.ipynb_checkpoints/\n",
      "\tDeploying Flask apps to Heroku.ipynb\n",
      "\n"
     ]
    }
   ],
   "source": [
    "!git status"
   ]
  },
  {
   "cell_type": "markdown",
   "metadata": {},
   "source": [
    "Notice that the following files in .gitignore do not appear: \n",
    "\n",
    "    __pycache__/\n",
    "    *.pyc\n",
    "    .ipynb_checkpoints/\n",
    "    \n",
    "#!git rm -f --cached *"
   ]
  },
  {
   "cell_type": "code",
   "execution_count": 37,
   "metadata": {},
   "outputs": [
    {
     "name": "stdout",
     "output_type": "stream",
     "text": [
      "[master (root-commit) 790dad4] Frist commit first REST Api\n",
      " 12 files changed, 279 insertions(+)\n",
      " create mode 100644 code/.gitignore\n",
      " create mode 100644 code/Models/__init__.py\n",
      " create mode 100644 code/Models/item.py\n",
      " create mode 100644 code/Models/store.py\n",
      " create mode 100644 code/Models/user.py\n",
      " create mode 100644 code/Resources/__init__.py\n",
      " create mode 100644 code/Resources/item.py\n",
      " create mode 100644 code/Resources/store.py\n",
      " create mode 100644 code/Resources/user.py\n",
      " create mode 100644 code/app.py\n",
      " create mode 100644 code/db.py\n",
      " create mode 100644 code/security.py\n"
     ]
    }
   ],
   "source": [
    "!git commit -m \"Frist commit first REST Api\""
   ]
  },
  {
   "cell_type": "code",
   "execution_count": 38,
   "metadata": {},
   "outputs": [],
   "source": [
    "!git remote add origin https://github.com/ousmanemazou/First-test-Apis-.git"
   ]
  },
  {
   "cell_type": "code",
   "execution_count": 39,
   "metadata": {},
   "outputs": [
    {
     "name": "stdout",
     "output_type": "stream",
     "text": [
      "Branch 'master' set up to track remote branch 'master' from 'origin'.\n"
     ]
    },
    {
     "name": "stderr",
     "output_type": "stream",
     "text": [
      "To https://github.com/ousmanemazou/First-test-Apis-.git\n",
      " * [new branch]      master -> master\n"
     ]
    }
   ],
   "source": [
    "!git push -u origin master"
   ]
  },
  {
   "cell_type": "markdown",
   "metadata": {},
   "source": [
    "## Adding the required files to the project"
   ]
  },
  {
   "cell_type": "code",
   "execution_count": 41,
   "metadata": {},
   "outputs": [
    {
     "name": "stderr",
     "output_type": "stream",
     "text": [
      "Python 3.6.10 :: Anaconda, Inc.\n"
     ]
    }
   ],
   "source": [
    "!python --version"
   ]
  },
  {
   "cell_type": "code",
   "execution_count": 42,
   "metadata": {},
   "outputs": [
    {
     "name": "stdout",
     "output_type": "stream",
     "text": [
      "On branch master\n",
      "Your branch is up to date with 'origin/master'.\n",
      "\n",
      "Untracked files:\n",
      "  (use \"git add <file>...\" to include in what will be committed)\n",
      "\t.ipynb_checkpoints/\n",
      "\tDeploying Flask apps to Heroku.ipynb\n",
      "\tcode/procfile\n",
      "\tcode/requirements.txt\n",
      "\tcode/runtime.txt\n",
      "\tcode/uwsgi.ini\n",
      "\n",
      "nothing added to commit but untracked files present (use \"git add\" to track)\n"
     ]
    }
   ],
   "source": [
    "!git status"
   ]
  },
  {
   "cell_type": "code",
   "execution_count": 43,
   "metadata": {},
   "outputs": [
    {
     "name": "stderr",
     "output_type": "stream",
     "text": [
      "warning: LF will be replaced by CRLF in .ipynb_checkpoints/Deploying Flask apps to Heroku-checkpoint.ipynb.\n",
      "The file will have its original line endings in your working directory\n",
      "warning: LF will be replaced by CRLF in Deploying Flask apps to Heroku.ipynb.\n",
      "The file will have its original line endings in your working directory\n"
     ]
    }
   ],
   "source": [
    "!git add *"
   ]
  },
  {
   "cell_type": "code",
   "execution_count": 44,
   "metadata": {},
   "outputs": [
    {
     "name": "stdout",
     "output_type": "stream",
     "text": [
      "On branch master\n",
      "Your branch is up to date with 'origin/master'.\n",
      "\n",
      "Changes to be committed:\n",
      "  (use \"git restore --staged <file>...\" to unstage)\n",
      "\tnew file:   .ipynb_checkpoints/Deploying Flask apps to Heroku-checkpoint.ipynb\n",
      "\tnew file:   Deploying Flask apps to Heroku.ipynb\n",
      "\tnew file:   code/procfile\n",
      "\tnew file:   code/requirements.txt\n",
      "\tnew file:   code/runtime.txt\n",
      "\tnew file:   code/uwsgi.ini\n",
      "\n"
     ]
    }
   ],
   "source": [
    "!git status"
   ]
  },
  {
   "cell_type": "code",
   "execution_count": 46,
   "metadata": {},
   "outputs": [
    {
     "name": "stdout",
     "output_type": "stream",
     "text": [
      "[master 5c55fc0] Essential files for huruko\n",
      " 6 files changed, 290 insertions(+)\n",
      " create mode 100644 .ipynb_checkpoints/Deploying Flask apps to Heroku-checkpoint.ipynb\n",
      " create mode 100644 Deploying Flask apps to Heroku.ipynb\n",
      " create mode 100644 code/procfile\n",
      " create mode 100644 code/requirements.txt\n",
      " create mode 100644 code/runtime.txt\n",
      " create mode 100644 code/uwsgi.ini\n"
     ]
    }
   ],
   "source": [
    "!git commit -m \"Essential files for huruko\""
   ]
  },
  {
   "cell_type": "code",
   "execution_count": 48,
   "metadata": {},
   "outputs": [
    {
     "name": "stderr",
     "output_type": "stream",
     "text": [
      "To https://github.com/ousmanemazou/First-test-Apis-.git\n",
      "   790dad4..5c55fc0  master -> master\n"
     ]
    }
   ],
   "source": [
    "!git push"
   ]
  },
  {
   "cell_type": "code",
   "execution_count": null,
   "metadata": {},
   "outputs": [],
   "source": []
  }
 ],
 "metadata": {
  "kernelspec": {
   "display_name": "APIs_KernelS6",
   "language": "python",
   "name": "apis_kernels6"
  },
  "language_info": {
   "codemirror_mode": {
    "name": "ipython",
    "version": 3
   },
   "file_extension": ".py",
   "mimetype": "text/x-python",
   "name": "python",
   "nbconvert_exporter": "python",
   "pygments_lexer": "ipython3",
   "version": "3.6.10"
  }
 },
 "nbformat": 4,
 "nbformat_minor": 2
}
